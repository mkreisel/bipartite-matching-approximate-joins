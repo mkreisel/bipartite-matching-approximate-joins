{
 "cells": [
  {
   "cell_type": "code",
   "execution_count": 72,
   "id": "83b539ed-d996-4b78-9e56-0a41b5e32252",
   "metadata": {},
   "outputs": [],
   "source": [
    "# Load required libraries\n",
    "from scipy.optimize import linear_sum_assignment\n",
    "from scipy.spatial.distance import cdist\n",
    "import random\n",
    "import pandas as pd"
   ]
  },
  {
   "cell_type": "code",
   "execution_count": 73,
   "id": "7a158e6f-2a68-40c1-a629-e7fa56ff74c3",
   "metadata": {},
   "outputs": [],
   "source": [
    "# Randomly generate 2 tables of latitudes and longitudes which match up to a small random shift\n",
    "# We want to join these tables based on comparing the lat/longs using bipartite matching then see how accurate the match is. \n",
    "table_1 = []\n",
    "table_2 = []\n",
    "for i in range(1000):\n",
    "    table_1_lat = random.uniform(-90, 90)\n",
    "    table_1_long = random.uniform(-180, 180)\n",
    "    table_1.append({'table_1_id':i,'lat':table_1_lat,'long': table_1_long})\n",
    "    table_2.append({'table_1_id':i,'lat':table_1_lat + random.uniform(-0.25, 0.25),'long': table_1_long + random.uniform(-0.25, 0.25)})"
   ]
  },
  {
   "cell_type": "code",
   "execution_count": 74,
   "id": "8abeeb75-52b1-4705-aa08-591070716c5c",
   "metadata": {},
   "outputs": [],
   "source": [
    "# Create pandas dataframes.\n",
    "table_1 = pd.DataFrame.from_records(table_1)\n",
    "random.shuffle(table_2)\n",
    "table_2 = pd.DataFrame.from_records(table_2)"
   ]
  },
  {
   "cell_type": "code",
   "execution_count": 75,
   "id": "87b71dfe-950d-40d4-85c4-8a1e229f63aa",
   "metadata": {},
   "outputs": [],
   "source": [
    "# One degree of latitude is not equal to one degree of longitude, so account for that by scaling them independently.\n",
    "# This is important when dealing with actual lat/long values.\n",
    "table_1['lat_miles'] = table_1['lat'] * 69\n",
    "table_2['lat_miles'] = table_2['lat'] * 69\n",
    "table_1['long_miles'] = table_1['long'] * 54.6\n",
    "table_2['long_miles'] = table_2['long'] * 54.6"
   ]
  },
  {
   "cell_type": "code",
   "execution_count": 76,
   "id": "af8f58d5-0704-4db7-9a5f-16dc5c3df2e3",
   "metadata": {},
   "outputs": [],
   "source": [
    "# Create matrix of distances which will be used as weights for the bipartite matching.\n",
    "distances = cdist(table_1[['lat_miles', 'long_miles']], table_2[['lat_miles','long_miles']])"
   ]
  },
  {
   "cell_type": "code",
   "execution_count": 77,
   "id": "cb3e7fb3-610e-4764-8d5a-fa8e2dcaaecd",
   "metadata": {},
   "outputs": [],
   "source": [
    "# Get the predicted matches from bipartite matching.\n",
    "assignment = linear_sum_assignment(distances)"
   ]
  },
  {
   "cell_type": "code",
   "execution_count": 78,
   "id": "5a735d15-3f5a-457f-8280-4ee4e488f812",
   "metadata": {},
   "outputs": [],
   "source": [
    "# Reorder table_2 according to the predictions, then assign the predicted index. \n",
    "# This should match the original index from table_1.\n",
    "table_2 = table_2.reindex(assignment[1])\n",
    "table_2['predicted_index'] = assignment[0]"
   ]
  },
  {
   "cell_type": "code",
   "execution_count": 83,
   "id": "1cc2db77-edd4-4a6a-a40f-437fe0cd0b9c",
   "metadata": {},
   "outputs": [
    {
     "data": {
      "text/plain": [
       "0.996"
      ]
     },
     "execution_count": 83,
     "metadata": {},
     "output_type": "execute_result"
    }
   ],
   "source": [
    "# Check the proportion matched correctly.\n",
    "sum(table_2['table_1_id'] == table_2['predicted_index']) / len(table_2)"
   ]
  },
  {
   "cell_type": "code",
   "execution_count": 81,
   "id": "48a4a653-d479-45a7-aef4-f4a5ae1aa83c",
   "metadata": {},
   "outputs": [
    {
     "data": {
      "text/html": [
       "<div>\n",
       "<style scoped>\n",
       "    .dataframe tbody tr th:only-of-type {\n",
       "        vertical-align: middle;\n",
       "    }\n",
       "\n",
       "    .dataframe tbody tr th {\n",
       "        vertical-align: top;\n",
       "    }\n",
       "\n",
       "    .dataframe thead th {\n",
       "        text-align: right;\n",
       "    }\n",
       "</style>\n",
       "<table border=\"1\" class=\"dataframe\">\n",
       "  <thead>\n",
       "    <tr style=\"text-align: right;\">\n",
       "      <th></th>\n",
       "      <th>table_1_id</th>\n",
       "      <th>lat</th>\n",
       "      <th>long</th>\n",
       "      <th>lat_miles</th>\n",
       "      <th>long_miles</th>\n",
       "      <th>predicted_index</th>\n",
       "    </tr>\n",
       "  </thead>\n",
       "  <tbody>\n",
       "    <tr>\n",
       "      <th>175</th>\n",
       "      <td>150</td>\n",
       "      <td>8.904399</td>\n",
       "      <td>104.720638</td>\n",
       "      <td>614.403524</td>\n",
       "      <td>5717.746836</td>\n",
       "      <td>145</td>\n",
       "    </tr>\n",
       "    <tr>\n",
       "      <th>323</th>\n",
       "      <td>145</td>\n",
       "      <td>8.928629</td>\n",
       "      <td>104.715262</td>\n",
       "      <td>616.075389</td>\n",
       "      <td>5717.453287</td>\n",
       "      <td>150</td>\n",
       "    </tr>\n",
       "    <tr>\n",
       "      <th>264</th>\n",
       "      <td>700</td>\n",
       "      <td>51.170766</td>\n",
       "      <td>141.812026</td>\n",
       "      <td>3530.782867</td>\n",
       "      <td>7742.936630</td>\n",
       "      <td>153</td>\n",
       "    </tr>\n",
       "    <tr>\n",
       "      <th>612</th>\n",
       "      <td>153</td>\n",
       "      <td>50.876547</td>\n",
       "      <td>141.694298</td>\n",
       "      <td>3510.481710</td>\n",
       "      <td>7736.508644</td>\n",
       "      <td>700</td>\n",
       "    </tr>\n",
       "  </tbody>\n",
       "</table>\n",
       "</div>"
      ],
      "text/plain": [
       "     table_1_id        lat        long    lat_miles   long_miles  \\\n",
       "175         150   8.904399  104.720638   614.403524  5717.746836   \n",
       "323         145   8.928629  104.715262   616.075389  5717.453287   \n",
       "264         700  51.170766  141.812026  3530.782867  7742.936630   \n",
       "612         153  50.876547  141.694298  3510.481710  7736.508644   \n",
       "\n",
       "     predicted_index  \n",
       "175              145  \n",
       "323              150  \n",
       "264              153  \n",
       "612              700  "
      ]
     },
     "execution_count": 81,
     "metadata": {},
     "output_type": "execute_result"
    }
   ],
   "source": [
    "# Observe any mistakes and note how close they are. \n",
    "table_2[table_2['table_1_id'] != table_2['predicted_index']]"
   ]
  }
 ],
 "metadata": {
  "kernelspec": {
   "display_name": "Python 3 (ipykernel)",
   "language": "python",
   "name": "python3"
  },
  "language_info": {
   "codemirror_mode": {
    "name": "ipython",
    "version": 3
   },
   "file_extension": ".py",
   "mimetype": "text/x-python",
   "name": "python",
   "nbconvert_exporter": "python",
   "pygments_lexer": "ipython3",
   "version": "3.10.4"
  }
 },
 "nbformat": 4,
 "nbformat_minor": 5
}

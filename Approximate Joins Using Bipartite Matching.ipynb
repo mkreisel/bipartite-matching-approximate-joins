{
 "cells": [
  {
   "cell_type": "code",
   "execution_count": 29,
   "id": "83b539ed-d996-4b78-9e56-0a41b5e32252",
   "metadata": {},
   "outputs": [],
   "source": [
    "# Load required libraries\n",
    "from scipy.optimize import linear_sum_assignment\n",
    "from scipy.spatial.distance import cdist\n",
    "import random\n",
    "import pandas as pd"
   ]
  },
  {
   "cell_type": "code",
   "execution_count": 30,
   "id": "7a158e6f-2a68-40c1-a629-e7fa56ff74c3",
   "metadata": {},
   "outputs": [],
   "source": [
    "# Randomly generate 2 tables of latitudes and longitudes which match up to a small random shift\n",
    "# We want to join these tables based on comparing the lat/longs using bipartite matching then see how accurate the match is. \n",
    "table_A = []\n",
    "table_B = []\n",
    "for i in range(1000):\n",
    "    table_A_lat = random.uniform(-90, 90)\n",
    "    table_A_long = random.uniform(-180, 180)\n",
    "    table_A.append({'table_A_id':i,'lat':table_A_lat,'long': table_A_long})\n",
    "    table_B.append({'table_A_id':i,'lat':table_A_lat + random.uniform(-0.25, 0.25),'long': table_A_long + random.uniform(-0.25, 0.25)})"
   ]
  },
  {
   "cell_type": "code",
   "execution_count": 31,
   "id": "8abeeb75-52b1-4705-aa08-591070716c5c",
   "metadata": {},
   "outputs": [],
   "source": [
    "# Create pandas dataframes.\n",
    "table_A = pd.DataFrame.from_records(table_A)\n",
    "random.shuffle(table_B)\n",
    "table_B = pd.DataFrame.from_records(table_B)"
   ]
  },
  {
   "cell_type": "code",
   "execution_count": 32,
   "id": "87b71dfe-950d-40d4-85c4-8a1e229f63aa",
   "metadata": {},
   "outputs": [],
   "source": [
    "# One degree of latitude is not equal to one degree of longitude, so account for that by scaling them independently.\n",
    "# This is important when dealing with actual lat/long values.\n",
    "table_A['lat_miles'] = table_A['lat'] * 69\n",
    "table_B['lat_miles'] = table_B['lat'] * 69\n",
    "table_A['long_miles'] = table_A['long'] * 54.6\n",
    "table_B['long_miles'] = table_B['long'] * 54.6"
   ]
  },
  {
   "cell_type": "code",
   "execution_count": 33,
   "id": "af8f58d5-0704-4db7-9a5f-16dc5c3df2e3",
   "metadata": {},
   "outputs": [],
   "source": [
    "# Create matrix of distances which will be used as weights for the bipartite matching.\n",
    "distances = cdist(table_A[['lat_miles', 'long_miles']], table_B[['lat_miles','long_miles']])"
   ]
  },
  {
   "cell_type": "code",
   "execution_count": 34,
   "id": "cb3e7fb3-610e-4764-8d5a-fa8e2dcaaecd",
   "metadata": {},
   "outputs": [],
   "source": [
    "# Get the predicted matches from bipartite matching.\n",
    "assignment = linear_sum_assignment(distances)"
   ]
  },
  {
   "cell_type": "code",
   "execution_count": 35,
   "id": "5a735d15-3f5a-457f-8280-4ee4e488f812",
   "metadata": {},
   "outputs": [],
   "source": [
    "# Reorder table_B according to the predictions, then assign the predicted index. \n",
    "# This should match the original index from table_A.\n",
    "table_B = table_B.reindex(assignment[1])\n",
    "table_B['predicted_index'] = assignment[0]"
   ]
  },
  {
   "cell_type": "code",
   "execution_count": 36,
   "id": "1cc2db77-edd4-4a6a-a40f-437fe0cd0b9c",
   "metadata": {},
   "outputs": [
    {
     "name": "stdout",
     "output_type": "stream",
     "text": [
      "1.0\n"
     ]
    }
   ],
   "source": [
    "# Check the proportion matched correctly.\n",
    "num_correct_matches = sum(table_B['table_A_id'] == table_B['predicted_index'])\n",
    "fraction_correct = num_correct_matches / len(table_B)\n",
    "print(fraction_correct)"
   ]
  },
  {
   "cell_type": "code",
   "execution_count": 37,
   "id": "48a4a653-d479-45a7-aef4-f4a5ae1aa83c",
   "metadata": {},
   "outputs": [
    {
     "data": {
      "text/html": [
       "<div>\n",
       "<style scoped>\n",
       "    .dataframe tbody tr th:only-of-type {\n",
       "        vertical-align: middle;\n",
       "    }\n",
       "\n",
       "    .dataframe tbody tr th {\n",
       "        vertical-align: top;\n",
       "    }\n",
       "\n",
       "    .dataframe thead th {\n",
       "        text-align: right;\n",
       "    }\n",
       "</style>\n",
       "<table border=\"1\" class=\"dataframe\">\n",
       "  <thead>\n",
       "    <tr style=\"text-align: right;\">\n",
       "      <th></th>\n",
       "      <th>table_A_id</th>\n",
       "      <th>lat</th>\n",
       "      <th>long</th>\n",
       "      <th>lat_miles</th>\n",
       "      <th>long_miles</th>\n",
       "      <th>predicted_index</th>\n",
       "    </tr>\n",
       "  </thead>\n",
       "  <tbody>\n",
       "  </tbody>\n",
       "</table>\n",
       "</div>"
      ],
      "text/plain": [
       "Empty DataFrame\n",
       "Columns: [table_A_id, lat, long, lat_miles, long_miles, predicted_index]\n",
       "Index: []"
      ]
     },
     "execution_count": 37,
     "metadata": {},
     "output_type": "execute_result"
    }
   ],
   "source": [
    "# Observe any mistakes and note how close they are. \n",
    "table_B[table_B['table_A_id'] != table_B['predicted_index']]"
   ]
  }
 ],
 "metadata": {
  "kernelspec": {
   "display_name": "Python 3 (ipykernel)",
   "language": "python",
   "name": "python3"
  },
  "language_info": {
   "codemirror_mode": {
    "name": "ipython",
    "version": 3
   },
   "file_extension": ".py",
   "mimetype": "text/x-python",
   "name": "python",
   "nbconvert_exporter": "python",
   "pygments_lexer": "ipython3",
   "version": "3.10.4"
  }
 },
 "nbformat": 4,
 "nbformat_minor": 5
}
